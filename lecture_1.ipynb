{
 "cells": [
  {
   "cell_type": "markdown",
   "metadata": {},
   "source": [
    "# Computing with Python\n",
    "\n",
    "## Python\n",
    "\n",
    "In this section we will give a brief recap of the main features of the Python\n",
    "syntax.\n",
    "\n",
    "### Variables and Operators\n",
    "\n",
    "Python, like many programming languages, centers around the use of **variables**. Variables can be of several built-in types, which are inferred dynamically (i.e. Python variables do not require any type information in declaration):"
   ]
  },
  {
   "cell_type": "code",
   "execution_count": 173,
   "metadata": {},
   "outputs": [
    {
     "name": "stdout",
     "output_type": "stream",
     "text": [
      "Addition 2 + 3.1415 = 5.141500000000001\n"
     ]
    }
   ],
   "source": [
    "x = 2                # Integer value\n",
    "pi = 3.1415          # Floating-point variable\n",
    "label = \"Addition\"   # String variable\n",
    "print(label, x, '+', pi, '=', (x + pi))"
   ]
  },
  {
   "cell_type": "code",
   "execution_count": 174,
   "metadata": {},
   "outputs": [
    {
     "name": "stdout",
     "output_type": "stream",
     "text": [
      "Division 2 / 3.1415 = 0.6366385484641095\n"
     ]
    }
   ],
   "source": [
    "label = \"Division\"\n",
    "print(label, x, '/', pi, \"=\", (x / pi))"
   ]
  },
  {
   "cell_type": "markdown",
   "metadata": {},
   "source": [
    "Variable names are case sensitive, so that `pi` and `PI` may refer to two different objects. Note the seamless use of integers, floating-point (decimal) values, strings (indicated by single quotes `'...'` or double-quotes `\"...\"`), and that simple arithmetic expressions (`+`, `-`, `*` and `/`) behave as expected.\n",
    "\n",
    "Also avaiable are the `**` operator for exponentiation, and the modulus operatos `%` which finds the remainder between two numbers:"
   ]
  },
  {
   "cell_type": "code",
   "execution_count": 175,
   "metadata": {},
   "outputs": [
    {
     "data": {
      "text/plain": [
       "8"
      ]
     },
     "execution_count": 175,
     "metadata": {},
     "output_type": "execute_result"
    }
   ],
   "source": [
    "2 ** 3   # Exponentiation"
   ]
  },
  {
   "cell_type": "code",
   "execution_count": 176,
   "metadata": {},
   "outputs": [
    {
     "data": {
      "text/plain": [
       "1"
      ]
     },
     "execution_count": 176,
     "metadata": {},
     "output_type": "execute_result"
    }
   ],
   "source": [
    "7 % 3    # Modulus (remainder after division)"
   ]
  },
  {
   "cell_type": "code",
   "execution_count": 177,
   "metadata": {},
   "outputs": [
    {
     "data": {
      "text/plain": [
       "6"
      ]
     },
     "execution_count": 177,
     "metadata": {},
     "output_type": "execute_result"
    }
   ],
   "source": [
    "x = 4\n",
    "x += 2  # Equivalent to x = x + 2\n",
    "x"
   ]
  },
  {
   "cell_type": "markdown",
   "metadata": {},
   "source": [
    "#### Container Objects\n",
    "\n",
    "Besides numeric and string variables, Python also provides several built-in container types, which include **lists**, **tuples**, **sets** and **dictionaries**\n",
    "\n",
    "##### Lists\n",
    "\n",
    "A list holds an ordered sequence of objects, which can be accessed via the zero-based item index using square brackets `[ ]`:"
   ]
  },
  {
   "cell_type": "code",
   "execution_count": 178,
   "metadata": {},
   "outputs": [
    {
     "data": {
      "text/plain": [
       "1"
      ]
     },
     "execution_count": 178,
     "metadata": {},
     "output_type": "execute_result"
    }
   ],
   "source": [
    "l = [1, 2, 3]\n",
    "l[0]"
   ]
  },
  {
   "cell_type": "markdown",
   "metadata": {},
   "source": [
    "List items can be any mix of types, which makes them very flexible:"
   ]
  },
  {
   "cell_type": "code",
   "execution_count": 179,
   "metadata": {},
   "outputs": [
    {
     "data": {
      "text/plain": [
       "3.14"
      ]
     },
     "execution_count": 179,
     "metadata": {},
     "output_type": "execute_result"
    }
   ],
   "source": [
    "pi = 3.14\n",
    "l = [5, 'dog', pi]\n",
    "l[-1]\n",
    "     "
   ]
  },
  {
   "cell_type": "markdown",
   "metadata": {},
   "source": [
    "Here we have used a negative index to access items at the end of the list. Another useful list operation is **slicing**, which allows access to sublists. Slices can start and end anywhere in the list, and can be contiguous or noncontiguous:"
   ]
  },
  {
   "cell_type": "code",
   "execution_count": 1,
   "metadata": {},
   "outputs": [
    {
     "data": {
      "text/plain": [
       "['Pietru', 'Gakbu', 'Xmun']"
      ]
     },
     "execution_count": 1,
     "metadata": {},
     "output_type": "execute_result"
    }
   ],
   "source": [
    "l = ['Pietru', 'Gakbu', 'Xmun', 'Sawl', 'Leli', 'Zeppi']\n",
    "l[0:3]   # Slice containing the firs three items"
   ]
  },
  {
   "cell_type": "code",
   "execution_count": 2,
   "metadata": {},
   "outputs": [
    {
     "data": {
      "text/plain": [
       "['Pietru', 'Gakbu', 'Xmun']"
      ]
     },
     "execution_count": 2,
     "metadata": {},
     "output_type": "execute_result"
    }
   ],
   "source": [
    "l[:3]    # Same as above, the zero is implied"
   ]
  },
  {
   "cell_type": "code",
   "execution_count": 182,
   "metadata": {},
   "outputs": [
    {
     "data": {
      "text/plain": [
       "['Paul', 'Mary']"
      ]
     },
     "execution_count": 182,
     "metadata": {},
     "output_type": "execute_result"
    }
   ],
   "source": [
    "l[-2:]   # Last two items"
   ]
  },
  {
   "cell_type": "code",
   "execution_count": 183,
   "metadata": {},
   "outputs": [
    {
     "data": {
      "text/plain": [
       "['Goran', 'Curly', 'Peter']"
      ]
     },
     "execution_count": 183,
     "metadata": {},
     "output_type": "execute_result"
    }
   ],
   "source": [
    "l[1:4]   # Items 1 (inclusive) through 4 (non-inclusive)"
   ]
  },
  {
   "cell_type": "code",
   "execution_count": 184,
   "metadata": {},
   "outputs": [
    {
     "data": {
      "text/plain": [
       "['Larry', 'Curly', 'Paul']"
      ]
     },
     "execution_count": 184,
     "metadata": {},
     "output_type": "execute_result"
    }
   ],
   "source": [
    "l[::2]   # Every second item"
   ]
  },
  {
   "cell_type": "code",
   "execution_count": 185,
   "metadata": {},
   "outputs": [
    {
     "data": {
      "text/plain": [
       "['Mary', 'Paul', 'Peter', 'Curly', 'Goran', 'Larry']"
      ]
     },
     "execution_count": 185,
     "metadata": {},
     "output_type": "execute_result"
    }
   ],
   "source": [
    "l[::-1]  # All items in reverse order"
   ]
  },
  {
   "cell_type": "markdown",
   "metadata": {},
   "source": [
    "A general slice is of the form `[start:stop:stride]`. `start` defaults to 0, `stop` defaults to `None` and `stride`, which indicates the number of steps to take between each new element, defaults to `1`. Slicing will become even more important when working with N-dimensional NumPy arrays below."
   ]
  },
  {
   "cell_type": "markdown",
   "metadata": {},
   "source": [
    "##### Tuples\n",
    "\n",
    "Tuples are similar to lists, but are indicated by parentheses `(1, 2, 3)` rather than square brackets `[1, 2, 3]`. They support item access and slicing using the same syntax as lists. The primary difference is that tuples are immutable: once they're created the items in them cannot be changed. Tuples are most commonly used in functions which return multiple values.\n",
    "\n",
    "##### Sets\n",
    "\n",
    "Sets act as unordered lists in which items are not repeated. They can be very convenient to use in circumstances where no repetition of elements is desired:"
   ]
  },
  {
   "cell_type": "code",
   "execution_count": 186,
   "metadata": {},
   "outputs": [
    {
     "data": {
      "text/plain": [
       "{1, 2, 3}"
      ]
     },
     "execution_count": 186,
     "metadata": {},
     "output_type": "execute_result"
    }
   ],
   "source": [
    "s = set([1, 1, 3, 2, 1, 3])\n",
    "s"
   ]
  },
  {
   "cell_type": "markdown",
   "metadata": {},
   "source": [
    "##### Dictionaries\n",
    "\n",
    "A dictionary is another container type, which stores an unordered sequence of key-value pairs. It can be defined using curly brackets `{}`, and like lists allows mixes of types:"
   ]
  },
  {
   "cell_type": "code",
   "execution_count": 187,
   "metadata": {},
   "outputs": [
    {
     "data": {
      "text/plain": [
       "1"
      ]
     },
     "execution_count": 187,
     "metadata": {},
     "output_type": "execute_result"
    }
   ],
   "source": [
    "d = {'a': 1, 'b': 2.5, 'L': [1, 2, 3]}\n",
    "d['a']"
   ]
  },
  {
   "cell_type": "code",
   "execution_count": 188,
   "metadata": {},
   "outputs": [
    {
     "data": {
      "text/plain": [
       "[1, 2, 3]"
      ]
     },
     "execution_count": 188,
     "metadata": {},
     "output_type": "execute_result"
    }
   ],
   "source": [
    "d['L']"
   ]
  },
  {
   "cell_type": "markdown",
   "metadata": {},
   "source": [
    "#### Functions\n",
    "\n",
    "For operations which will be repeatedly executed, it is often convenient to define a **function** which implements the desired operation. A function can optionally accept one or several **parameters**, and can optionally return a computed value:"
   ]
  },
  {
   "cell_type": "code",
   "execution_count": 189,
   "metadata": {},
   "outputs": [
    {
     "data": {
      "text/plain": [
       "1.5707963264999998"
      ]
     },
     "execution_count": 189,
     "metadata": {},
     "output_type": "execute_result"
    }
   ],
   "source": [
    "def convert_to_radians(deg):\n",
    "    pi = 3.141592653\n",
    "    return deg * pi / 180.0\n",
    "\n",
    "convert_to_radians(90)"
   ]
  },
  {
   "cell_type": "markdown",
   "metadata": {},
   "source": [
    "Notice the key elements of a function definition: the `def` keyword, the function name, the arguments in parentheses `()`, the colon `:` marking the beginning of a code block, the **local variable** pi defined in the function, and the optional `return` statement which returns a computed value to the point of the function call. Here we see our first use of **indentation** in Python: unlike many languages, *white space in Python has meaning*. Indentation in Python can consist of tabs or any number of spaces, standard practice is to use four spaces, and to never use tabs.\n",
    "\n",
    "Python has many built-in functions which implement common tasks. For example, it is often convenient to be able to quickly define a sequential list of integers: Python allows this through the built-in `range` function:"
   ]
  },
  {
   "cell_type": "code",
   "execution_count": 190,
   "metadata": {},
   "outputs": [
    {
     "data": {
      "text/plain": [
       "range(0, 10)"
      ]
     },
     "execution_count": 190,
     "metadata": {},
     "output_type": "execute_result"
    }
   ],
   "source": [
    "x = range(10)\n",
    "x"
   ]
  },
  {
   "cell_type": "markdown",
   "metadata": {},
   "source": [
    "Notice that `range(N)` starts at zero and has `N` elements, and therefore does not include `N` itself.\n",
    "\n",
    "#### Logical Operators\n",
    "\n",
    "Another of Python's built-in object types are the boolean values. `True` and `Fasle` (case sensitive). Nonboolean variables can be coerced into boolean types: for example, a nonzero integer evalues to `True`, while a zero integer evaluates to `False`; an empty string evaluates to `False` in a boolean expression, while a nonempty string evaluates to `True`:"
   ]
  },
  {
   "cell_type": "code",
   "execution_count": 191,
   "metadata": {},
   "outputs": [
    {
     "data": {
      "text/plain": [
       "(False, True)"
      ]
     },
     "execution_count": 191,
     "metadata": {},
     "output_type": "execute_result"
    }
   ],
   "source": [
    "bool(''), bool('hello')"
   ]
  },
  {
   "cell_type": "markdown",
   "metadata": {},
   "source": [
    "Hand in hand with the boolean operators are the comparison expressions, which are summarized in the table below.\n",
    "As a simple example, one can use comparisons and boolean expressions in combination:"
   ]
  },
  {
   "cell_type": "code",
   "execution_count": 192,
   "metadata": {},
   "outputs": [
    {
     "data": {
      "text/plain": [
       "True"
      ]
     },
     "execution_count": 192,
     "metadata": {},
     "output_type": "execute_result"
    }
   ],
   "source": [
    "x = 2\n",
    "y = 4\n",
    "(x == 2) and (y >= 3)"
   ]
  },
  {
   "cell_type": "markdown",
   "metadata": {},
   "source": [
    "These boolean expression become very important when used with control flow statements.\n",
    "\n",
    "\n",
    "| Operation | Description |\n",
    "| :--- | :--- | \n",
    "<caption>Boolean Operators</caption>\n",
    "| `x or y` | `True` if either `x` or `y`, or both evaluate to `True`; otherwise `False` |\n",
    "| `x and y` | `True` only if both `x` and `y` evaluate to `True`; otherwise `False` |\n",
    "| `not x` | `True` only if `x` evaluates to `False`; otherwise `False` |\n",
    "\n",
    "| Operator | Description |\n",
    "| :--- | :--- | \n",
    "<caption>Comparison Operators</caption>\n",
    "| `<` | Strictly less than |\n",
    "| `>` | Strictly greater than |\n",
    "| `==`| Equal\n",
    "| `<=`| Less than or equal |\n",
    "| `>=`| Greater than or equal |\n",
    "| `!=` | Not Equal |\n",
    "\n",
    "\n",
    "\n",
    "#### Control Flow\n",
    "\n",
    "Control flow statements include **conditionals** and **loops** which allow the programmer to control the order of code execution. For conditional statements, Python implements the `if`, `elif`, and `else` commands:"
   ]
  },
  {
   "cell_type": "code",
   "execution_count": 193,
   "metadata": {},
   "outputs": [
    {
     "data": {
      "text/plain": [
       "'zero'"
      ]
     },
     "execution_count": 193,
     "metadata": {},
     "output_type": "execute_result"
    }
   ],
   "source": [
    "def check_value(x):\n",
    "    if x < 0:\n",
    "        return 'negative'\n",
    "    elif x == 0:\n",
    "        return 'zero'\n",
    "    else:\n",
    "        return 'positive'\n",
    "\n",
    "check_value(0)"
   ]
  },
  {
   "cell_type": "code",
   "execution_count": 194,
   "metadata": {},
   "outputs": [
    {
     "data": {
      "text/plain": [
       "'positive'"
      ]
     },
     "execution_count": 194,
     "metadata": {},
     "output_type": "execute_result"
    }
   ],
   "source": [
    "check_value(123.4)"
   ]
  },
  {
   "cell_type": "markdown",
   "metadata": {},
   "source": [
    "The keyword `elif` is a contraction of `else if`, and allows multiple conditionals in series without excessive indentation. There can be any number of `elif` statements strung together, and the series may or may not end with `else`.\n",
    "Python contains two types of loop statements: `for` loops and `while` loops. The syntax of the for loop is as follows:"
   ]
  },
  {
   "cell_type": "code",
   "execution_count": 195,
   "metadata": {},
   "outputs": [
    {
     "name": "stdout",
     "output_type": "stream",
     "text": [
      "coffee\n",
      "water\n",
      "kinnie\n"
     ]
    }
   ],
   "source": [
    "for drink in ['coffee', 'water', 'kinnie']:\n",
    "    print(drink)"
   ]
  },
  {
   "cell_type": "markdown",
   "metadata": {},
   "source": [
    "In practice, for loops are often used with the built-in `range` function, which was introduced above:"
   ]
  },
  {
   "cell_type": "code",
   "execution_count": 196,
   "metadata": {},
   "outputs": [
    {
     "name": "stdout",
     "output_type": "stream",
     "text": [
      "0 twinkle\n",
      "1 twinkle\n",
      "2 little\n",
      "3 star\n"
     ]
    }
   ],
   "source": [
    "words = ['twinkle', 'twinkle', 'little', 'star']\n",
    "for i in range(4):\n",
    "    print(i, words[i])"
   ]
  },
  {
   "cell_type": "markdown",
   "metadata": {},
   "source": [
    "The second type of loop, `while` loops, operate similarly to `while` loops in other languages:"
   ]
  },
  {
   "cell_type": "code",
   "execution_count": 197,
   "metadata": {},
   "outputs": [
    {
     "name": "stdout",
     "output_type": "stream",
     "text": [
      "12\n"
     ]
    }
   ],
   "source": [
    "i = 0\n",
    "while i < 10:\n",
    "    i += 3\n",
    "\n",
    "print(i)"
   ]
  },
  {
   "cell_type": "markdown",
   "metadata": {},
   "source": [
    "In loops, it can often be useful to skip the remainder of a loop iteration or to break out of the loop. These tasks can be accomplished using the `continue` and `break` statements:"
   ]
  },
  {
   "cell_type": "code",
   "execution_count": 198,
   "metadata": {},
   "outputs": [
    {
     "name": "stdout",
     "output_type": "stream",
     "text": [
      "12\n"
     ]
    }
   ],
   "source": [
    "i = 0\n",
    "while True:\n",
    "    i += 3\n",
    "    if i > 10:\n",
    "        break   # Break out of the loop\n",
    "        \n",
    "print(i)"
   ]
  },
  {
   "cell_type": "code",
   "execution_count": 199,
   "metadata": {},
   "outputs": [
    {
     "name": "stdout",
     "output_type": "stream",
     "text": [
      "1 Only odd numbers get here\n",
      "3 Only odd numbers get here\n",
      "5 Only odd numbers get here\n"
     ]
    }
   ],
   "source": [
    "for i in range(6):\n",
    "    if i % 2 == 0:\n",
    "        continue    #  Continue from the beginning of loop block\n",
    "    print(i, 'Only odd numbers get here')"
   ]
  },
  {
   "cell_type": "markdown",
   "metadata": {},
   "source": [
    "Another useful statement is the `pass` statement, which is a null operation that can be useful as a placeholder"
   ]
  },
  {
   "cell_type": "code",
   "execution_count": 200,
   "metadata": {},
   "outputs": [
    {
     "name": "stdout",
     "output_type": "stream",
     "text": [
      "p\n",
      "y\n",
      "t\n",
      "h\n",
      "n\n"
     ]
    }
   ],
   "source": [
    "word = 'python'\n",
    "for char in word:\n",
    "    if char == 'o':\n",
    "        pass    # This does nothing\n",
    "    else:\n",
    "        print(char)"
   ]
  },
  {
   "cell_type": "markdown",
   "metadata": {},
   "source": [
    "#### Exception Handling\n",
    "\n",
    "When something goes wrong in a Python script, an **exception** is raised. This can happen, for example, when a list index is out of range, or when a mathematical expression is undefined:"
   ]
  },
  {
   "cell_type": "code",
   "execution_count": 201,
   "metadata": {},
   "outputs": [],
   "source": [
    "# Uncomment below to run\n",
    "# L = [1, 2, 3]\n",
    "# L[5]"
   ]
  },
  {
   "cell_type": "code",
   "execution_count": 202,
   "metadata": {},
   "outputs": [],
   "source": [
    "# Uncomment below to run\n",
    "# 0 / 0"
   ]
  },
  {
   "cell_type": "markdown",
   "metadata": {},
   "source": [
    "In these cases, it is often useful to **catch** the exceptions in order to decide what to do. This is accomplished with the `try, except` statement:"
   ]
  },
  {
   "cell_type": "code",
   "execution_count": 203,
   "metadata": {},
   "outputs": [
    {
     "data": {
      "text/plain": [
       "2"
      ]
     },
     "execution_count": 203,
     "metadata": {},
     "output_type": "execute_result"
    }
   ],
   "source": [
    "def safe_getitem(l, i):\n",
    "    try:\n",
    "        return l[i]\n",
    "    except IndexError:\n",
    "        return 'Index out of range'\n",
    "    except TypeError:\n",
    "        return 'Index of wrong type'\n",
    "    \n",
    "l = [1, 2, 3]\n",
    "safe_getitem(l, 1)"
   ]
  },
  {
   "cell_type": "code",
   "execution_count": 204,
   "metadata": {},
   "outputs": [
    {
     "data": {
      "text/plain": [
       "'Index out of range'"
      ]
     },
     "execution_count": 204,
     "metadata": {},
     "output_type": "execute_result"
    }
   ],
   "source": [
    "safe_getitem(l, 100)"
   ]
  },
  {
   "cell_type": "code",
   "execution_count": 205,
   "metadata": {},
   "outputs": [
    {
     "data": {
      "text/plain": [
       "'Index of wrong type'"
      ]
     },
     "execution_count": 205,
     "metadata": {},
     "output_type": "execute_result"
    }
   ],
   "source": [
    "safe_getitem(l, 'cat')"
   ]
  },
  {
   "cell_type": "markdown",
   "metadata": {},
   "source": [
    "In addition to `try` and `except`, the `else` and `finally` keywords can be used to finetune the behavior of your exception handling blocks.\n",
    "In your own code, you may wish to raise an exception under certain circumstances. This can be done with the `raise` keyword:"
   ]
  },
  {
   "cell_type": "code",
   "execution_count": 206,
   "metadata": {},
   "outputs": [
    {
     "data": {
      "text/plain": [
       "'ha! ha! ha! ha! ha! ha! '"
      ]
     },
     "execution_count": 206,
     "metadata": {},
     "output_type": "execute_result"
    }
   ],
   "source": [
    "def laugh(n):\n",
    "    if n <= 0:\n",
    "        raise ValueError('n must be positive')\n",
    "    else:\n",
    "        return n * 'ha! '\n",
    "    \n",
    "laugh(6)"
   ]
  },
  {
   "cell_type": "code",
   "execution_count": 207,
   "metadata": {},
   "outputs": [],
   "source": [
    "# Uncomment below to run\n",
    "# laugh(-2)"
   ]
  },
  {
   "cell_type": "markdown",
   "metadata": {},
   "source": [
    "Pyhton has numerous built-in exception types, and users may also define custom exception types for their own projects"
   ]
  },
  {
   "cell_type": "markdown",
   "metadata": {},
   "source": [
    "#### Modules and Packages\n",
    "\n",
    "A key component of the extensibility of Python is the existence of **modules** and **packages**, which may be built in or defined by the user. A module is a collection of functions and variables, and a package is a collection of modules. These can be accessed using the `import` statement. There are several useful built-in modules in Python, for example the `math` module can be accessed this way:"
   ]
  },
  {
   "cell_type": "code",
   "execution_count": 208,
   "metadata": {},
   "outputs": [
    {
     "data": {
      "text/plain": [
       "1.4142135623730951"
      ]
     },
     "execution_count": 208,
     "metadata": {},
     "output_type": "execute_result"
    }
   ],
   "source": [
    "import math\n",
    "\n",
    "math.sqrt(2)"
   ]
  },
  {
   "cell_type": "markdown",
   "metadata": {},
   "source": [
    "Alternatively, one can import specific variables, functions, or classes from modules using the `from, import` idiom:"
   ]
  },
  {
   "cell_type": "code",
   "execution_count": 209,
   "metadata": {},
   "outputs": [
    {
     "data": {
      "text/plain": [
       "1.0"
      ]
     },
     "execution_count": 209,
     "metadata": {},
     "output_type": "execute_result"
    }
   ],
   "source": [
    "from math import pi, sin\n",
    "\n",
    "sin(pi / 2)"
   ]
  },
  {
   "cell_type": "markdown",
   "metadata": {},
   "source": [
    "At times, you’ll see the use of, for example, from math `import *`, which imports\n",
    "everything in the module into the global namespace. This should generally be\n",
    "avoided, because it can easily lead to name conflicts if multiple modules or packages\n",
    "are used. More information on any module can be found by calling the built-in help\n",
    "function with the module as the argument:"
   ]
  },
  {
   "cell_type": "code",
   "execution_count": 210,
   "metadata": {},
   "outputs": [
    {
     "name": "stdout",
     "output_type": "stream",
     "text": [
      "Help on built-in module math:\n",
      "\n",
      "NAME\n",
      "    math\n",
      "\n",
      "DESCRIPTION\n",
      "    This module is always available.  It provides access to the\n",
      "    mathematical functions defined by the C standard.\n",
      "\n",
      "FUNCTIONS\n",
      "    acos(x, /)\n",
      "        Return the arc cosine (measured in radians) of x.\n",
      "    \n",
      "    acosh(x, /)\n",
      "        Return the inverse hyperbolic cosine of x.\n",
      "    \n",
      "    asin(x, /)\n",
      "        Return the arc sine (measured in radians) of x.\n",
      "    \n",
      "    asinh(x, /)\n",
      "        Return the inverse hyperbolic sine of x.\n",
      "    \n",
      "    atan(x, /)\n",
      "        Return the arc tangent (measured in radians) of x.\n",
      "    \n",
      "    atan2(y, x, /)\n",
      "        Return the arc tangent (measured in radians) of y/x.\n",
      "        \n",
      "        Unlike atan(y/x), the signs of both x and y are considered.\n",
      "    \n",
      "    atanh(x, /)\n",
      "        Return the inverse hyperbolic tangent of x.\n",
      "    \n",
      "    ceil(x, /)\n",
      "        Return the ceiling of x as an Integral.\n",
      "        \n",
      "        This is the smallest integer >= x.\n",
      "    \n",
      "    copysign(x, y, /)\n",
      "        Return a float with the magnitude (absolute value) of x but the sign of y.\n",
      "        \n",
      "        On platforms that support signed zeros, copysign(1.0, -0.0)\n",
      "        returns -1.0.\n",
      "    \n",
      "    cos(x, /)\n",
      "        Return the cosine of x (measured in radians).\n",
      "    \n",
      "    cosh(x, /)\n",
      "        Return the hyperbolic cosine of x.\n",
      "    \n",
      "    degrees(x, /)\n",
      "        Convert angle x from radians to degrees.\n",
      "    \n",
      "    erf(x, /)\n",
      "        Error function at x.\n",
      "    \n",
      "    erfc(x, /)\n",
      "        Complementary error function at x.\n",
      "    \n",
      "    exp(x, /)\n",
      "        Return e raised to the power of x.\n",
      "    \n",
      "    expm1(x, /)\n",
      "        Return exp(x)-1.\n",
      "        \n",
      "        This function avoids the loss of precision involved in the direct evaluation of exp(x)-1 for small x.\n",
      "    \n",
      "    fabs(x, /)\n",
      "        Return the absolute value of the float x.\n",
      "    \n",
      "    factorial(x, /)\n",
      "        Find x!.\n",
      "        \n",
      "        Raise a ValueError if x is negative or non-integral.\n",
      "    \n",
      "    floor(x, /)\n",
      "        Return the floor of x as an Integral.\n",
      "        \n",
      "        This is the largest integer <= x.\n",
      "    \n",
      "    fmod(x, y, /)\n",
      "        Return fmod(x, y), according to platform C.\n",
      "        \n",
      "        x % y may differ.\n",
      "    \n",
      "    frexp(x, /)\n",
      "        Return the mantissa and exponent of x, as pair (m, e).\n",
      "        \n",
      "        m is a float and e is an int, such that x = m * 2.**e.\n",
      "        If x is 0, m and e are both 0.  Else 0.5 <= abs(m) < 1.0.\n",
      "    \n",
      "    fsum(seq, /)\n",
      "        Return an accurate floating point sum of values in the iterable seq.\n",
      "        \n",
      "        Assumes IEEE-754 floating point arithmetic.\n",
      "    \n",
      "    gamma(x, /)\n",
      "        Gamma function at x.\n",
      "    \n",
      "    gcd(x, y, /)\n",
      "        greatest common divisor of x and y\n",
      "    \n",
      "    hypot(x, y, /)\n",
      "        Return the Euclidean distance, sqrt(x*x + y*y).\n",
      "    \n",
      "    isclose(a, b, *, rel_tol=1e-09, abs_tol=0.0)\n",
      "        Determine whether two floating point numbers are close in value.\n",
      "        \n",
      "          rel_tol\n",
      "            maximum difference for being considered \"close\", relative to the\n",
      "            magnitude of the input values\n",
      "          abs_tol\n",
      "            maximum difference for being considered \"close\", regardless of the\n",
      "            magnitude of the input values\n",
      "        \n",
      "        Return True if a is close in value to b, and False otherwise.\n",
      "        \n",
      "        For the values to be considered close, the difference between them\n",
      "        must be smaller than at least one of the tolerances.\n",
      "        \n",
      "        -inf, inf and NaN behave similarly to the IEEE 754 Standard.  That\n",
      "        is, NaN is not close to anything, even itself.  inf and -inf are\n",
      "        only close to themselves.\n",
      "    \n",
      "    isfinite(x, /)\n",
      "        Return True if x is neither an infinity nor a NaN, and False otherwise.\n",
      "    \n",
      "    isinf(x, /)\n",
      "        Return True if x is a positive or negative infinity, and False otherwise.\n",
      "    \n",
      "    isnan(x, /)\n",
      "        Return True if x is a NaN (not a number), and False otherwise.\n",
      "    \n",
      "    ldexp(x, i, /)\n",
      "        Return x * (2**i).\n",
      "        \n",
      "        This is essentially the inverse of frexp().\n",
      "    \n",
      "    lgamma(x, /)\n",
      "        Natural logarithm of absolute value of Gamma function at x.\n",
      "    \n",
      "    log(...)\n",
      "        log(x, [base=math.e])\n",
      "        Return the logarithm of x to the given base.\n",
      "        \n",
      "        If the base not specified, returns the natural logarithm (base e) of x.\n",
      "    \n",
      "    log10(x, /)\n",
      "        Return the base 10 logarithm of x.\n",
      "    \n",
      "    log1p(x, /)\n",
      "        Return the natural logarithm of 1+x (base e).\n",
      "        \n",
      "        The result is computed in a way which is accurate for x near zero.\n",
      "    \n",
      "    log2(x, /)\n",
      "        Return the base 2 logarithm of x.\n",
      "    \n",
      "    modf(x, /)\n",
      "        Return the fractional and integer parts of x.\n",
      "        \n",
      "        Both results carry the sign of x and are floats.\n",
      "    \n",
      "    pow(x, y, /)\n",
      "        Return x**y (x to the power of y).\n",
      "    \n",
      "    radians(x, /)\n",
      "        Convert angle x from degrees to radians.\n",
      "    \n",
      "    remainder(x, y, /)\n",
      "        Difference between x and the closest integer multiple of y.\n",
      "        \n",
      "        Return x - n*y where n*y is the closest integer multiple of y.\n",
      "        In the case where x is exactly halfway between two multiples of\n",
      "        y, the nearest even value of n is used. The result is always exact.\n",
      "    \n",
      "    sin(x, /)\n",
      "        Return the sine of x (measured in radians).\n",
      "    \n",
      "    sinh(x, /)\n",
      "        Return the hyperbolic sine of x.\n",
      "    \n",
      "    sqrt(x, /)\n",
      "        Return the square root of x.\n",
      "    \n",
      "    tan(x, /)\n",
      "        Return the tangent of x (measured in radians).\n",
      "    \n",
      "    tanh(x, /)\n",
      "        Return the hyperbolic tangent of x.\n",
      "    \n",
      "    trunc(x, /)\n",
      "        Truncates the Real x to the nearest Integral toward 0.\n",
      "        \n",
      "        Uses the __trunc__ magic method.\n",
      "\n",
      "DATA\n",
      "    e = 2.718281828459045\n",
      "    inf = inf\n",
      "    nan = nan\n",
      "    pi = 3.141592653589793\n",
      "    tau = 6.283185307179586\n",
      "\n",
      "FILE\n",
      "    (built-in)\n",
      "\n",
      "\n"
     ]
    }
   ],
   "source": [
    "help(math)"
   ]
  },
  {
   "cell_type": "markdown",
   "metadata": {},
   "source": [
    "#### Objects in Python\n",
    "\n",
    "Python can be used as an object-oriented language, and the basic building blocks of the language are objects. Every variable in Python is an object. A variable containing an integer is simply an object of type `int`; a list is simply an object of type `list`. Any object may have **attributes**, **methods**, and/or **properties** associated with it. Attributes and methods are analogous to variables and functions, respectively, except\n",
    "that attributes and methods are associated with particular objects. Properties act as a hybrid of an attribute and a method, and we won’t discuss them further here. As an example of using attributes and methods, we’ll look at the complex data type:"
   ]
  },
  {
   "cell_type": "code",
   "execution_count": 211,
   "metadata": {},
   "outputs": [
    {
     "name": "stdout",
     "output_type": "stream",
     "text": [
      "(1+2j)\n",
      "1.0\n",
      "2.0\n",
      "(1-2j)\n"
     ]
    }
   ],
   "source": [
    "c = complex(1.0, 2.0)\n",
    "\n",
    "print(c)      # Print the complex number\n",
    "print(c.real) # Print the value of the real attribute in the complex object\n",
    "print(c.imag) # Print the value of the real attribute in the complex object\n",
    "print(c.conjugate())   # Print the result of the function conjugate in the complex object"
   ]
  },
  {
   "cell_type": "markdown",
   "metadata": {},
   "source": [
    "Here we have created a complex number `c`, and accessed two of its attributes, `c.real` (the real part) and `c.imag` (the imaginary part). These attributes are variables which are associated with the object c. Similarly, we call the method `c.conjugate()`, which computes the complex conjugate of the number. This method is a function which is associated with the object `c`.\n",
    "\n",
    "Most built-in object types have methods which can be used to view or modify\n",
    "the objects. For example, the `append` method of `list` objects can be used to extend the array:"
   ]
  },
  {
   "cell_type": "code",
   "execution_count": 212,
   "metadata": {},
   "outputs": [
    {
     "data": {
      "text/plain": [
       "[4, 5, 6, 8]"
      ]
     },
     "execution_count": 212,
     "metadata": {},
     "output_type": "execute_result"
    }
   ],
   "source": [
    "l = [4, 5, 6]\n",
    "l.append(8)\n",
    "\n",
    "L"
   ]
  },
  {
   "cell_type": "markdown",
   "metadata": {},
   "source": [
    "and the `sort` method can be used to sort a list in place:"
   ]
  },
  {
   "cell_type": "code",
   "execution_count": 213,
   "metadata": {},
   "outputs": [
    {
     "data": {
      "text/plain": [
       "[2, 3, 5, 6]"
      ]
     },
     "execution_count": 213,
     "metadata": {},
     "output_type": "execute_result"
    }
   ],
   "source": [
    "numbers = [5, 2, 6, 3]\n",
    "numbers.sort()\n",
    "numbers"
   ]
  },
  {
   "cell_type": "code",
   "execution_count": 214,
   "metadata": {},
   "outputs": [
    {
     "data": {
      "text/plain": [
       "['alphabetize', 'these', 'we', 'will', 'words']"
      ]
     },
     "execution_count": 214,
     "metadata": {},
     "output_type": "execute_result"
    }
   ],
   "source": [
    "words = ['we', 'will', 'alphabetize', 'these', 'words']\n",
    "words.sort()\n",
    "words"
   ]
  },
  {
   "cell_type": "markdown",
   "metadata": {},
   "source": [
    "## NumPy\n",
    "\n",
    "Here we will give an introduction to the core concepts of scientific\n",
    "computing in Python, which is primarily built around the NumPy array. Becoming\n",
    "fluent in the methods and operations of NumPy arrays is vital to writing effective and efficient Python code. NumPy is contained in the `numpy` module, which by convention is often imported under the shortened name `np`."
   ]
  },
  {
   "cell_type": "markdown",
   "metadata": {},
   "source": [
    "#### Array Creation\n",
    "\n",
    "NumPy arrays are objects of the type `np.ndarray`, though this type is rarely used directly. Instead there are several array creation routines that are often used:"
   ]
  },
  {
   "cell_type": "code",
   "execution_count": 215,
   "metadata": {},
   "outputs": [
    {
     "data": {
      "text/plain": [
       "array([5, 2, 6, 7])"
      ]
     },
     "execution_count": 215,
     "metadata": {},
     "output_type": "execute_result"
    }
   ],
   "source": [
    "import numpy as np\n",
    "\n",
    "np.array([5, 2, 6, 7])    # Create an array from a python list"
   ]
  },
  {
   "cell_type": "code",
   "execution_count": 216,
   "metadata": {},
   "outputs": [
    {
     "data": {
      "text/plain": [
       "array([0, 1, 2, 3])"
      ]
     },
     "execution_count": 216,
     "metadata": {},
     "output_type": "execute_result"
    }
   ],
   "source": [
    "np.arange(4)              # Similar to the built-in range() function"
   ]
  },
  {
   "cell_type": "code",
   "execution_count": 217,
   "metadata": {},
   "outputs": [
    {
     "data": {
      "text/plain": [
       "array([1.  , 1.25, 1.5 , 1.75, 2.  ])"
      ]
     },
     "execution_count": 217,
     "metadata": {},
     "output_type": "execute_result"
    }
   ],
   "source": [
    "np.linspace(1, 2, 5)      # 5 evenly spaces steps from 1 to 2"
   ]
  },
  {
   "cell_type": "code",
   "execution_count": 218,
   "metadata": {},
   "outputs": [
    {
     "data": {
      "text/plain": [
       "array([0., 0., 0., 0., 0.])"
      ]
     },
     "execution_count": 218,
     "metadata": {},
     "output_type": "execute_result"
    }
   ],
   "source": [
    "np.zeros(5)               # Array of zeros"
   ]
  },
  {
   "cell_type": "code",
   "execution_count": 219,
   "metadata": {},
   "outputs": [
    {
     "data": {
      "text/plain": [
       "array([1., 1., 1., 1., 1., 1.])"
      ]
     },
     "execution_count": 219,
     "metadata": {},
     "output_type": "execute_result"
    }
   ],
   "source": [
    "np.ones(6)                # Array of ones"
   ]
  },
  {
   "cell_type": "markdown",
   "metadata": {},
   "source": [
    "Arrays can also be multidimensional"
   ]
  },
  {
   "cell_type": "code",
   "execution_count": 220,
   "metadata": {},
   "outputs": [
    {
     "data": {
      "text/plain": [
       "array([[0., 0., 0., 0.],\n",
       "       [0., 0., 0., 0.]])"
      ]
     },
     "execution_count": 220,
     "metadata": {},
     "output_type": "execute_result"
    }
   ],
   "source": [
    "np.zeros((2, 4))          # 2 x 4 array of zeros"
   ]
  },
  {
   "cell_type": "markdown",
   "metadata": {},
   "source": [
    "NumPy also has tools for random array creation"
   ]
  },
  {
   "cell_type": "code",
   "execution_count": 221,
   "metadata": {},
   "outputs": [
    {
     "data": {
      "text/plain": [
       "array([0.77423369, 0.45615033, 0.56843395, 0.0187898 ])"
      ]
     },
     "execution_count": 221,
     "metadata": {},
     "output_type": "execute_result"
    }
   ],
   "source": [
    "np.random.random(size=4)  # Uniform between 0 and 1"
   ]
  },
  {
   "cell_type": "code",
   "execution_count": 222,
   "metadata": {},
   "outputs": [
    {
     "data": {
      "text/plain": [
       "array([1.46274045, 1.53502913, 0.56644004, 0.14926509])"
      ]
     },
     "execution_count": 222,
     "metadata": {},
     "output_type": "execute_result"
    }
   ],
   "source": [
    "np.random.normal(size=4)  # Standard-norm distributed"
   ]
  },
  {
   "cell_type": "markdown",
   "metadata": {},
   "source": [
    "Other array creation routines are available, but the examples above summarize the most useful options."
   ]
  },
  {
   "cell_type": "markdown",
   "metadata": {},
   "source": [
    "#### Element Access\n",
    "\n",
    "Elements of arrays can be accessed using the same indexing and slicing sytnax as in lists:"
   ]
  },
  {
   "cell_type": "code",
   "execution_count": 223,
   "metadata": {},
   "outputs": [
    {
     "data": {
      "text/plain": [
       "0"
      ]
     },
     "execution_count": 223,
     "metadata": {},
     "output_type": "execute_result"
    }
   ],
   "source": [
    "x = np.arange(10)\n",
    "\n",
    "x[0]"
   ]
  },
  {
   "cell_type": "code",
   "execution_count": 224,
   "metadata": {},
   "outputs": [
    {
     "data": {
      "text/plain": [
       "array([0, 2, 4, 6, 8])"
      ]
     },
     "execution_count": 224,
     "metadata": {},
     "output_type": "execute_result"
    }
   ],
   "source": [
    "x[::2]"
   ]
  },
  {
   "cell_type": "markdown",
   "metadata": {},
   "source": [
    "Note that array slices are implemented as **views** rather than copies of the orignal array, so that operations such as the following are possible:"
   ]
  },
  {
   "cell_type": "code",
   "execution_count": 225,
   "metadata": {},
   "outputs": [
    {
     "data": {
      "text/plain": [
       "array([1., 0., 2., 0., 3., 0., 4., 0.])"
      ]
     },
     "execution_count": 225,
     "metadata": {},
     "output_type": "execute_result"
    }
   ],
   "source": [
    "x = np.zeros(8)            # Array of eight zeros\n",
    "\n",
    "x[::2] = np.arange(1, 5)   # [::2] selects every 2nd entry\n",
    "\n",
    "x"
   ]
  },
  {
   "cell_type": "markdown",
   "metadata": {},
   "source": [
    "For multidimensional arrays, element access uses multiple indices:"
   ]
  },
  {
   "cell_type": "code",
   "execution_count": 226,
   "metadata": {},
   "outputs": [
    {
     "data": {
      "text/plain": [
       "array([[1., 2.],\n",
       "       [0., 0.]])"
      ]
     },
     "execution_count": 226,
     "metadata": {},
     "output_type": "execute_result"
    }
   ],
   "source": [
    "x = np.zeros((2, 2))     # 2 x 2 array of zeros\n",
    "x[0, 0] = 1\n",
    "x[0, 1] = 2\n",
    "\n",
    "X"
   ]
  },
  {
   "cell_type": "code",
   "execution_count": 227,
   "metadata": {},
   "outputs": [
    {
     "data": {
      "text/plain": [
       "array([1., 2.])"
      ]
     },
     "execution_count": 227,
     "metadata": {},
     "output_type": "execute_result"
    }
   ],
   "source": [
    "x[0, :]      # First row of X. X[0] is equivalent"
   ]
  },
  {
   "cell_type": "code",
   "execution_count": 228,
   "metadata": {},
   "outputs": [
    {
     "data": {
      "text/plain": [
       "array([2., 0.])"
      ]
     },
     "execution_count": 228,
     "metadata": {},
     "output_type": "execute_result"
    }
   ],
   "source": [
    "x[:, 1]      # Second column of X"
   ]
  },
  {
   "cell_type": "markdown",
   "metadata": {},
   "source": [
    "Combinations of the above operations allow very complicated arrays to be created easily and efficiently"
   ]
  },
  {
   "cell_type": "markdown",
   "metadata": {},
   "source": [
    "#### Array Data Type\n",
    "\n",
    "NumPy arrays are typed objects, and often the type of the array is very important. This can be controlled using the `dtype` parameter. The following examples is on a 64-bit machine:"
   ]
  },
  {
   "cell_type": "code",
   "execution_count": 229,
   "metadata": {},
   "outputs": [
    {
     "data": {
      "text/plain": [
       "dtype('float64')"
      ]
     },
     "execution_count": 229,
     "metadata": {},
     "output_type": "execute_result"
    }
   ],
   "source": [
    "x = np.zeros(4)\n",
    "\n",
    "x.dtype"
   ]
  },
  {
   "cell_type": "code",
   "execution_count": 230,
   "metadata": {},
   "outputs": [
    {
     "data": {
      "text/plain": [
       "dtype('int32')"
      ]
     },
     "execution_count": 230,
     "metadata": {},
     "output_type": "execute_result"
    }
   ],
   "source": [
    "y = np.zeros(4, dtype=int)\n",
    "\n",
    "y.dtype"
   ]
  },
  {
   "cell_type": "markdown",
   "metadata": {},
   "source": [
    "Allocating arrays of the correct type can be very imporant; for example, a floating-point number assigned to an integer array will have its decimal part truncated:"
   ]
  },
  {
   "cell_type": "code",
   "execution_count": 231,
   "metadata": {},
   "outputs": [
    {
     "data": {
      "text/plain": [
       "array([3])"
      ]
     },
     "execution_count": 231,
     "metadata": {},
     "output_type": "execute_result"
    }
   ],
   "source": [
    "x = np.zeros(1, dtype=int)\n",
    "x[0] = 3.14\n",
    "\n",
    "x"
   ]
  },
  {
   "cell_type": "markdown",
   "metadata": {},
   "source": [
    "Other possible values for `dtype` abound: for example, you might use `bool` for boolean values or `complex` for complex numbers. When we discuss *structued arrays* below, we'll see that even more sophisticated data types are possible."
   ]
  },
  {
   "cell_type": "markdown",
   "metadata": {},
   "source": [
    "#### Universal Functions and Broadcasting"
   ]
  },
  {
   "cell_type": "markdown",
   "metadata": {},
   "source": [
    "A powerful feature of NumPy is the concept of a ufunc, short for \"universal function.\" These functions operate on every value of an array. For example, trigonometric functions are implemented in NumPy as **unary ufuncs** — ufuncs with a single parameter:"
   ]
  },
  {
   "cell_type": "code",
   "execution_count": 232,
   "metadata": {},
   "outputs": [
    {
     "data": {
      "text/plain": [
       "array([0.        , 0.84147098, 0.90929743])"
      ]
     },
     "execution_count": 232,
     "metadata": {},
     "output_type": "execute_result"
    }
   ],
   "source": [
    "x = np.arange(3)    # [0, 1, 2]\n",
    "np.sin(x)"
   ]
  },
  {
   "cell_type": "markdown",
   "metadata": {},
   "source": [
    "Arithmetic operations like `+`, `-`, `*`, `/` are implemented as **binary ufuncs** - ufuncs with two parameters:"
   ]
  },
  {
   "cell_type": "code",
   "execution_count": 233,
   "metadata": {},
   "outputs": [
    {
     "data": {
      "text/plain": [
       "array([0, 1, 4])"
      ]
     },
     "execution_count": 233,
     "metadata": {},
     "output_type": "execute_result"
    }
   ],
   "source": [
    "x * x    # Multiply each element of x by itself"
   ]
  },
  {
   "cell_type": "markdown",
   "metadata": {},
   "source": [
    "Ufuncs can also operate between arrays and scalar, applying the operation and the scalar to each array value"
   ]
  },
  {
   "cell_type": "code",
   "execution_count": 234,
   "metadata": {},
   "outputs": [
    {
     "data": {
      "text/plain": [
       "array([5, 6, 7])"
      ]
     },
     "execution_count": 234,
     "metadata": {},
     "output_type": "execute_result"
    }
   ],
   "source": [
    "x + 5"
   ]
  },
  {
   "cell_type": "markdown",
   "metadata": {},
   "source": [
    "This is a simple example of **broadcasting**, where one argument of a ufunc has a shape upgraded to the shape of the other argument. A more complicated example\n",
    "of broadcasting is adding a vector to a matrix:"
   ]
  },
  {
   "cell_type": "code",
   "execution_count": 235,
   "metadata": {},
   "outputs": [
    {
     "data": {
      "text/plain": [
       "array([[1., 2., 3.],\n",
       "       [1., 2., 3.],\n",
       "       [1., 2., 3.]])"
      ]
     },
     "execution_count": 235,
     "metadata": {},
     "output_type": "execute_result"
    }
   ],
   "source": [
    "x = np.ones((3, 3))    # 3 x 3 array of ones\n",
    "y = np.arange(3)       # [0, 1, 2]\n",
    "\n",
    "x + y"
   ]
  },
  {
   "cell_type": "markdown",
   "metadata": {},
   "source": [
    "Sometimes, both arrays are broadcast at the same time"
   ]
  },
  {
   "cell_type": "code",
   "execution_count": 236,
   "metadata": {},
   "outputs": [
    {
     "data": {
      "text/plain": [
       "array([[0, 1, 2],\n",
       "       [1, 2, 3],\n",
       "       [2, 3, 4]])"
      ]
     },
     "execution_count": 236,
     "metadata": {},
     "output_type": "execute_result"
    }
   ],
   "source": [
    "x = np.arange(3)\n",
    "y = x.reshape((3, 1))     # Create a 3 x 1 column array\n",
    "\n",
    "x + y"
   ]
  },
  {
   "cell_type": "markdown",
   "metadata": {},
   "source": [
    "Here a row array and a column array are added together, and both are broadcast\n",
    "to complete the operation. A visualization of these broadcasting operations is shown in the figure below. Note that the extra memory indicated by the dotted boxes is never allocated, but it can be convenient to think about operations as if it is.\n",
    "\n",
    "<img src=\"img/numpy_broadcasting.png\">\n",
    "\n",
    "\n",
    "Broadcasting can seem complicated, but it follows simple rules:\n",
    "1. If the two arrays differ in their number of dimensions, the shape of the array\n",
    "with fewer dimensions is padded with ones on its leading (left) side.\n",
    "2. If the shape of the two arrays does not match in any dimension, the array with\n",
    "shape equal to 1 in that dimension is broadcast up to match the other shape.\n",
    "3. If in any dimension the sizes disagree and neither is equal to 1, an error is\n",
    "raised.\n",
    "\n",
    "All of this takes place efficiently without actually allocating any extra memory for\n",
    "these temporary arrays. Broadcasting in conjunction with universal functions allows\n",
    "some very fast and flexible operations on multidimensional arrays."
   ]
  },
  {
   "cell_type": "markdown",
   "metadata": {},
   "source": [
    "#### Structured Arrays\n",
    "\n",
    "Often data sets contain a mix of variables of different types. For this purpose, NumPy contains **structured arrays**, which store compound data types. For example, imagine we have a set of data where each object has an integer ID, a five-character string name (because NumPy array used fixed memory blocks we will also need to specify the maximum length of the string argument, and a floating-point measurement. We can store this all in one array:"
   ]
  },
  {
   "cell_type": "code",
   "execution_count": 237,
   "metadata": {},
   "outputs": [
    {
     "name": "stdout",
     "output_type": "stream",
     "text": [
      "[(0, '', 0.) (0, '', 0.) (0, '', 0.)]\n"
     ]
    }
   ],
   "source": [
    "dtype = [('ID', int ), ('name', (str , 5)), ('value', float )]\n",
    "data = np.zeros (3, dtype=dtype )\n",
    "\n",
    "print(data)"
   ]
  },
  {
   "cell_type": "markdown",
   "metadata": {},
   "source": [
    "The fields of the array (it may be convenient to think of them as \"columns\") can be accessed via the field name:"
   ]
  },
  {
   "cell_type": "code",
   "execution_count": 238,
   "metadata": {},
   "outputs": [
    {
     "name": "stdout",
     "output_type": "stream",
     "text": [
      "(154, 'obj_1', 0.1)\n"
     ]
    }
   ],
   "source": [
    "data ['ID' ] = [154, 207, 669]\n",
    "data ['name'] = ['obj_1', 'obj_2', 'obj_3']\n",
    "data ['value'] = [0.1, 0.2, 0.3]\n",
    "\n",
    "print(data[0])"
   ]
  },
  {
   "cell_type": "code",
   "execution_count": 239,
   "metadata": {},
   "outputs": [
    {
     "name": "stdout",
     "output_type": "stream",
     "text": [
      "[0.1 0.2 0.3]\n"
     ]
    }
   ],
   "source": [
    "print(data['value'])"
   ]
  },
  {
   "cell_type": "markdown",
   "metadata": {},
   "source": [
    "### Visualisation with Matplotlib\n",
    "\n",
    "Matplotlib offers a well-supported framework for producing publication-quality\n",
    "plots using Python and NumPy. Matplotlib is generally imported as follows:"
   ]
  },
  {
   "cell_type": "code",
   "execution_count": 240,
   "metadata": {},
   "outputs": [],
   "source": [
    "import matplotlib.pyplot as plt"
   ]
  },
  {
   "cell_type": "markdown",
   "metadata": {},
   "source": [
    "Matplotlib figures center around the `figure` and `axes` objects. A figure is\n",
    "essentially a plot window, and can contain any number of axes. An axes object\n",
    "is a subwindow which can contain lines, images, shapes, text, and other graphical elements. Figures and axes can be created by the `plt.figure` and `plt.axes` objects, but the `plt` interface takes care of these details in the background. A useful command to be aware of is the `plt.show()` command. It should be called once at the end of a script to tell the program to keep the plot open before progressing with the script. \n",
    "\n",
    "Let's start by creating and labeling a simple plot:"
   ]
  },
  {
   "cell_type": "code",
   "execution_count": 241,
   "metadata": {},
   "outputs": [
    {
     "data": {
      "text/plain": [
       "Text(0.5, 1.0, 'Simple Sinusoid Plot')"
      ]
     },
     "execution_count": 241,
     "metadata": {},
     "output_type": "execute_result"
    },
    {
     "data": {
      "image/png": "[encoded data removed]",
      "text/plain": [
       "<Figure size 432x288 with 1 Axes>"
      ]
     },
     "metadata": {
      "needs_background": "light"
     },
     "output_type": "display_data"
    }
   ],
   "source": [
    "x = np.linspace(0, 2 * np.pi, 1000)   # 1000 values from 0 to 2pi\n",
    "y = np.sin(x)\n",
    "plt.plot(x, y)\n",
    "plt.xlim(0, 2 * np.pi)   # Set x limits\n",
    "plt.ylim(-1.3, 1.3)      # Set y limits\n",
    "plt.xlabel('x')\n",
    "plt.ylabel('y')\n",
    "plt.title(\"Simple Sinusoid Plot\")"
   ]
  },
  {
   "cell_type": "markdown",
   "metadata": {},
   "source": [
    "The style of the line (dashed, dotted, etc.) or the presence of markers at each point (circles, squares, triangles, etc.) can be controlled using parameters in the `plt.plot` command. Another useful plot type is the error bar plot. Matplotlib implements this using `plt.errorbar`"
   ]
  },
  {
   "cell_type": "code",
   "execution_count": 242,
   "metadata": {},
   "outputs": [
    {
     "data": {
      "image/png": "[encoded data removed]",
      "text/plain": [
       "<Figure size 432x288 with 1 Axes>"
      ]
     },
     "metadata": {
      "needs_background": "light"
     },
     "output_type": "display_data"
    }
   ],
   "source": [
    "x = np.linspace(0, 2 * np.pi, 1000)   # 1000 values from 0 to 2pi\n",
    "y = np.sin(x)\n",
    "\n",
    "plt.plot(x, y)\n",
    "plt.xlim(0, 2 * np.pi)   # Set x limits\n",
    "plt.ylim(-1.3, 1.3)      # Set y limits\n",
    "plt.xlabel('x')\n",
    "plt.ylabel('y')\n",
    "plt.title(\"Simple Sinusoid Plot\")\n",
    "\n",
    "# Define observied data points\n",
    "x_obs = 2 * np.pi * np. random . random (50)\n",
    "y_obs = np.sin ( x_obs )\n",
    "\n",
    "# Add some error\n",
    "y_obs += np.random.normal (0, 0.1, 50)\n",
    "\n",
    "# Plot error bars over sinusoid\n",
    "plt.errorbar (x_obs , y_obs , 0.1, fmt='.', color='black')\n",
    "\n",
    "plt.show()"
   ]
  },
  {
   "cell_type": "markdown",
   "metadata": {},
   "source": [
    "Notice that we have set the format to '.', indicating a single point for each item, and set the color to 'black'.\n",
    "\n",
    "Another basic type of plot that is very useful is the histogram. This is implemented in Matplotlib thourgh `ax.hist()` command:"
   ]
  },
  {
   "cell_type": "code",
   "execution_count": 243,
   "metadata": {},
   "outputs": [
    {
     "data": {
      "image/png": "[encoded data removed]",
      "text/plain": [
       "<Figure size 432x288 with 1 Axes>"
      ]
     },
     "metadata": {
      "needs_background": "light"
     },
     "output_type": "display_data"
    }
   ],
   "source": [
    "fig = plt.figure()\n",
    "\n",
    "x = np.random.normal ( size =1000)\n",
    "plt.hist(x, bins=50)\n",
    "plt.xlabel('x')\n",
    "plt.ylabel('N(x)')\n",
    "plt.show()"
   ]
  },
  {
   "cell_type": "markdown",
   "metadata": {},
   "source": [
    "Matplotlib has many more features, including tools to create scatter\n",
    "plots (`plt.scatter`), display images (`plt.imshow`), display contour plots\n",
    "(`plt.contour` and `plt.contourf`), create hexagonal tessellations (`plt.hexbin`), draw filled regions (`plt.fill` and `plt.fill_between`), create multiple subplots (`plt.subplot` and `plt.axes`), and much more."
   ]
  },
  {
   "cell_type": "markdown",
   "metadata": {},
   "source": [
    "### Overview of Useful NumPy/SciPy Modules\n",
    "\n",
    "NumPy and SciPy contain a large collection of useful routines and tools, and we\n",
    "will briefly summarize some of them here\n",
    "\n",
    "#### Reading and Writing Data\n",
    "\n",
    "NumPy has tools for reading and writing both text-based data and binary format\n",
    "data. To save an array to a text file, use `np.savetxt`; text files can be loaded using `np.loadtxt`:"
   ]
  },
  {
   "cell_type": "code",
   "execution_count": 244,
   "metadata": {},
   "outputs": [
    {
     "data": {
      "text/plain": [
       "True"
      ]
     },
     "execution_count": 244,
     "metadata": {},
     "output_type": "execute_result"
    }
   ],
   "source": [
    "import numpy as np\n",
    "\n",
    "x = np.random.random((10, 3))\n",
    "np.savetxt ('x.txt', x)\n",
    "\n",
    "y = np.loadtxt ('x.txt')\n",
    "np.all (x == y)"
   ]
  },
  {
   "cell_type": "markdown",
   "metadata": {},
   "source": [
    "A more customizable text loader can be found in `np.genfromtxt`. Arrays can\n",
    "similarly be written to binary files using `np.save` and `np.load` for single arrays, or `np.savez` to store multiple arrays in a single zipped file.\n",
    "\n",
    "#### Pseudorandom Number Generation\n",
    "\n",
    "NumPy and SciPy provide powerful tools for pseudorandom number generation.\n",
    "They are based on the Mersenne twister algorithm, one of the most sophisticated and well-tested pseudorandom number algorithms available. The `np.random`\n",
    "submodule contains routines for random number generation from a variety of\n",
    "distributions. For reproducible results, the random seed can explicitly be set:"
   ]
  },
  {
   "cell_type": "code",
   "execution_count": 245,
   "metadata": {},
   "outputs": [
    {
     "data": {
      "text/plain": [
       "array([8, 1, 6, 7])"
      ]
     },
     "execution_count": 245,
     "metadata": {},
     "output_type": "execute_result"
    }
   ],
   "source": [
    "np.random.seed(0)\n",
    "\n",
    "np.random.random(4)    # Uniform between 0 and 1\n",
    "\n",
    "np.random.normal(loc=0, scale=1, size=4)   # Standard norm\n",
    "\n",
    "np.random.randint(low=0, high=10, size=4)  # Random integers"
   ]
  },
  {
   "cell_type": "markdown",
   "metadata": {},
   "source": [
    "Many other distributions are available as well. Another convenient way to generate random variables is using the `distributions` submodule in `scipy.stats`:"
   ]
  },
  {
   "cell_type": "code",
   "execution_count": 246,
   "metadata": {},
   "outputs": [
    {
     "data": {
      "text/plain": [
       "array([10, 16,  5, 13])"
      ]
     },
     "execution_count": 246,
     "metadata": {},
     "output_type": "execute_result"
    }
   ],
   "source": [
    "from scipy.stats import distributions\n",
    "\n",
    "distributions.poisson.rvs(10, size=4)"
   ]
  },
  {
   "cell_type": "markdown",
   "metadata": {},
   "source": [
    "Here we have used the `poisson` object to generate random variables from a\n",
    "Poisson distribution with $\\mu$ = 10. The distribution objects in `scipy.stats` offer\n",
    "much more than just random number generation: they contain tools to compute\n",
    "the probability density, the cumulative probability density, the mean, median,\n",
    "standard deviation, nth moments, and much more.\n",
    "\n",
    "#### Linear Algebra\n",
    "\n",
    "NumPy and SciPy contain some powerful tools for efficient linear algebraic computations. The basic dot (i.e., matrix-vector) product is implemented in Num"
   ]
  },
  {
   "cell_type": "code",
   "execution_count": 247,
   "metadata": {},
   "outputs": [
    {
     "name": "stdout",
     "output_type": "stream",
     "text": [
      "[[0 1 2]\n",
      " [3 4 5]\n",
      " [6 7 8]]\n"
     ]
    }
   ],
   "source": [
    "m = np.arange(9).reshape((3, 3))\n",
    "print(m)"
   ]
  },
  {
   "cell_type": "code",
   "execution_count": 248,
   "metadata": {},
   "outputs": [
    {
     "data": {
      "text/plain": [
       "array([ 8, 26, 44])"
      ]
     },
     "execution_count": 248,
     "metadata": {},
     "output_type": "execute_result"
    }
   ],
   "source": [
    "x = np.arange(1, 4)   # [1, 2, 3]\n",
    "\n",
    "np.dot(m, x)"
   ]
  },
  {
   "cell_type": "markdown",
   "metadata": {},
   "source": [
    "Many common linear algebraic operations are available in the submodules\n",
    "`numpy.linalg` and `scipy.linalg`. It is possible to compute matrix inverses (`linalg.inv`), singular value decompositions (`linalg.svd`), eigenvalue decompositions (`linalg.eig`), least-squares solutions (`linalg.lstsq`) and much more. The linear algebra submodules in NumPy and SciPy have many duplicate\n",
    "routines, and have a common interface. The SciPy versions of the routines often\n",
    "have more options to control output, and `scipy.linalg` contains a number of less common algorithms that are not a part of `numpy.linalg`.\n",
    "\n",
    "#### Fast Fourier Transform\n",
    "\n",
    "The fast Fourier transform is an important algorithm in many aspects of data\n",
    "analysis, and these routines are available in both NumPy (`numpy.fft` submodule)\n",
    "and SciPy (`scipy.fftpack` submodule). Like the linear algebra routines discussed\n",
    "above, the two implementations differ slightly, and the SciPy version has more\n",
    "options to control the results.\n",
    "A simple example is as follows:"
   ]
  },
  {
   "cell_type": "code",
   "execution_count": 249,
   "metadata": {},
   "outputs": [
    {
     "data": {
      "text/plain": [
       "array([4.+0.j, 0.+0.j, 0.+0.j, 0.+0.j])"
      ]
     },
     "execution_count": 249,
     "metadata": {},
     "output_type": "execute_result"
    }
   ],
   "source": [
    "x = np.ones(4)\n",
    "\n",
    "# Fourier Transform\n",
    "x_fft = np.fft.fft(x)\n",
    "\n",
    "x_fft"
   ]
  },
  {
   "cell_type": "code",
   "execution_count": 250,
   "metadata": {},
   "outputs": [
    {
     "data": {
      "text/plain": [
       "array([1.+0.j, 1.+0.j, 1.+0.j, 1.+0.j])"
      ]
     },
     "execution_count": 250,
     "metadata": {},
     "output_type": "execute_result"
    }
   ],
   "source": [
    "# Inverse Fourier Transform\n",
    "np.fft.ifft(x_fft)"
   ]
  },
  {
   "cell_type": "markdown",
   "metadata": {},
   "source": [
    "The forward transform is implemented with `fft()`, while the inverse is implemented\n",
    "with `ifft`.\n",
    "\n",
    "#### Numerical Integration\n",
    "\n",
    "Often it is useful to perform numerical integration of numerical functions. The\n",
    "literature on numerical integration techniques is immense, and SciPy implements\n",
    "many of the more popular routines in the module `scipy.integrate`. Here we’ll use\n",
    "a function derived from QUADPACK, an optimized numerical integration package\n",
    "written in Fortran, to integrate the function sin x from 0 to $\\pi$:"
   ]
  },
  {
   "cell_type": "code",
   "execution_count": 251,
   "metadata": {},
   "outputs": [
    {
     "data": {
      "text/plain": [
       "(2.0, 2.220446049250313e-14)"
      ]
     },
     "execution_count": 251,
     "metadata": {},
     "output_type": "execute_result"
    }
   ],
   "source": [
    "from scipy import integrate\n",
    "\n",
    "result, error = integrate.quad(np.sin, 0, np.pi)\n",
    "\n",
    "result, error"
   ]
  },
  {
   "cell_type": "markdown",
   "metadata": {},
   "source": [
    "As expected, the algorithm finds that $\\int^\\pi_0sin\\,x\\,dx=2$. The integrators accept any function of one variable as the first argument, even one defined by the user. Other integration options (including double and triple integration_ are also available.\n",
    "\n",
    "#### Optimization\n",
    "\n",
    "Numerical optimization (i.e., function minimization) is an important aspect of many data analysis problems. Like numerical integration, the literature on optimization methods is vast. SciPy implements many of the most common and powerful techniques in the submodule `scipy.optimize`. Here we’ll find the minimum of a simple function using fmin, which implements a Nelder–Mead simplex algorithm:"
   ]
  },
  {
   "cell_type": "code",
   "execution_count": 252,
   "metadata": {},
   "outputs": [
    {
     "name": "stdout",
     "output_type": "stream",
     "text": [
      "Optimization terminated successfully.\n",
      "         Current function value: -0.250000\n",
      "         Iterations: 24\n",
      "         Function evaluations: 48\n"
     ]
    },
    {
     "data": {
      "text/plain": [
       "array([-0.50003052])"
      ]
     },
     "execution_count": 252,
     "metadata": {},
     "output_type": "execute_result"
    }
   ],
   "source": [
    "from scipy import optimize\n",
    "\n",
    "def simple_quadratic (x):\n",
    "    return x ** 2 + x\n",
    "\n",
    "optimize.fmin(simple_quadratic, x0=100)"
   ]
  },
  {
   "cell_type": "markdown",
   "metadata": {},
   "source": [
    "The optimization converges to near the expected minimum value of $x = −0.5$. There\n",
    "are several more sophisticated optimizers available which can take into account\n",
    "gradients and other information.\n",
    "\n",
    "#### Interpolation\n",
    "\n",
    "Another common necessity in data analysis is interpolation discretely sampled data.\n",
    "There are many algorithms in the literature, and SciPy contains the submodule\n",
    "`scipy.interpolate` which implements many of these, from simple linear and\n",
    "polynomial interpolation to more sophisticated spline-based techniques.\n",
    "Here is a brief example of using a univariate spline to interpolate between points."
   ]
  },
  {
   "cell_type": "code",
   "execution_count": 253,
   "metadata": {},
   "outputs": [
    {
     "data": {
      "image/png": "[encoded data removed]",
      "text/plain": [
       "<Figure size 432x288 with 1 Axes>"
      ]
     },
     "metadata": {
      "needs_background": "light"
     },
     "output_type": "display_data"
    }
   ],
   "source": [
    "from scipy import interpolate\n",
    "\n",
    "x = np. linspace (0, 16, 30)     # Coarse grid : 30 pts\n",
    "y = np.sin(x)\n",
    "\n",
    "x2 = np. linspace (0, 16, 1000)  # Fine grid : 1000 pts\n",
    "\n",
    "spl = interpolate.UnivariateSpline(x, y, s=0)\n",
    "\n",
    "plt.plot(x, y, 'o')\n",
    "plt.plot(x2, spl(x2), '-')       # '-' means draw a line\n",
    "\n",
    "plt.show()"
   ]
  },
  {
   "cell_type": "markdown",
   "metadata": {},
   "source": [
    "The spline fit has interpolated the sampled points\n",
    "to create a smooth curve. There are many additional options for spline interpolation,\n",
    "including the adjustment of smoothing factors, number of knots, weighting of points,\n",
    "spline degree, and more. Linear and polynomial interpolation is also available, using\n",
    "the function `interpolate.interp1d`.\n",
    "\n",
    "#### Other Submodules\n",
    "\n",
    "There is much more functionality in SciPy, and it can be explored using the online\n",
    "documentation as well as the IPython help functions. Here is a partial list of remaining packages that readers might find useful:\n",
    "- `scipy.spatial`: distance and spatial functions, nearest neighbor, Delaunay\n",
    "tessellation\n",
    "- `scipy.sparse`: sparse matrix storage, sparse linear algebra, sparse solvers,\n",
    "sparse graph traversal\n",
    "- `scipy.stats`: common statistical functions and distributions\n",
    "- `scipy.special`: special functions (e.g., Airy functions, Bessel functions,\n",
    "orthogonal polynomials, gamma functions, and much more)\n",
    "- `scipy.constants`: numerical and dimensional constants"
   ]
  }
 ],
 "metadata": {
  "kernelspec": {
   "display_name": "Python 3",
   "language": "python",
   "name": "python3"
  },
  "language_info": {
   "codemirror_mode": {
    "name": "ipython",
    "version": 3
   },
   "file_extension": ".py",
   "mimetype": "text/x-python",
   "name": "python",
   "nbconvert_exporter": "python",
   "pygments_lexer": "ipython3",
   "version": "3.8.10"
  }
 },
 "nbformat": 4,
 "nbformat_minor": 2
}