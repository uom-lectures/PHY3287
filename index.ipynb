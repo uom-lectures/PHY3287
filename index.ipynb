{
 "cells": [
  {
   "cell_type": "markdown",
   "metadata": {},
   "source": [
    "# PHY3287 - Computational Astronomy\n",
    "\n",
    "Welcome to the PHY3287 - Computational Astronomy\n",
    "\n",
    "### Notes\n",
    "\n",
    "- [Lecture 0 - Course Introduction](lecture_0.ipynb)\n",
    "- [Lecture 1 - Python Recap](lecture_1.ipynb)\n",
    "<!-- [Lecture 1 - Astronomical Datasets](lecture_1_2.ipynb) -->\n",
    "- [Lecture 2 - Image Processing](lecture_2.ipynb) \n",
    "- [Lecture 3 - Time Doman Analysis](lecture_3.ipynb) \n",
    "- [Lecture 4a - Introduction to Machine Learning](lecture_4b.ipynb)\n",
    "- [Lecture 4b - Probability](lecture_4b.ipynb)\n",
    "- [Lecture 5 - Seraching for Structure in Point Data](lecture_5.ipynb)\n",
    "<!--- [Lecture 6 - Astronomical Data Analysis](lecture_6.ipynb) -->\n",
    "<!--- [Lecture 7 - Image Classification](lecture_7.ipynb) -->\n",
    "<!--- [Lecture 8 - Nerual Networks](lecture_8.ipynb) -->\n",
    "<!--- [Lecture 9 - Deep Learning](lecture_9.ipynb) -->\n",
    "\n",
    "\n",
    "<!--\n",
    "- [Lecture 0 - Course Introduction](lecture_0.ipynb)\n",
    "- [Lecture 1 - Course Introduction, Python Recap](lecture_1.ipynb)\n",
    "- [Lecture 1 - Astronomical Datasets](lecture_1_2.ipynb)\n",
    "- [Lecture 2 - Probability](lecture_2a.ipynb) \n",
    "- [Lecture 2 - Introduction to Machine Learning](lecture_2b.ipynb) \n",
    "- [Lecture 3 - Searching for Structure in Point Data](lecture_3.ipynb)\n",
    "- [Lecture 4 - Classification](lecture_4.ipynb)\n",
    "- [Lecture 5 - Gaussian Mixture Models](lecture_5.ipynb)\n",
    "- [Lecture 6 - Time Series Analysis](lecture_7.ipynb)\n",
    "- [Lecture 7 - Time Series Analysis 2](lecture_8.ipynb) \n",
    "- [Lecture 8 - Dimensionality Reduction](lecture_6.ipynb) -->\n",
    "\n",
    "\n",
    "### Resources\n",
    "\n",
    "- [Statistics, Data Mining and Machine Learning in Astronomy](https://press.princeton.edu/books/hardcover/9780691198309/statistics-data-mining-and-machine-learning-in-astronomy) - This course is based on this text book. You do not need to buy it (although you might want to) since all the required material will be provided in these notebooks.\n",
    "- [Python Data Science Handbook](https://jakevdp.github.io/PythonDataScienceHandbook/) - A general book containing a more in-depth description of Python and how it can be used for Data Science, includes a lot of useful examples and a more algorithmic approach to the field\n",
    "- [Python 3 Documentation](https://docs.python.org/3/)\n",
    "- [A gallery of interesting Python Notebooks](https://github.com/jupyter/jupyter/wiki/A-gallery-of-interesting-Jupyter-Notebooks)\n",
    "- [Python for Data Science Cheat Sheet](https://s3.amazonaws.com/assets.datacamp.com/blog_assets/PythonForDataScience.pdf)\n",
    "- [Python Data Science Handbook](https://nbviewer.jupyter.org/github/jakevdp/PythonDataScienceHandbook/blob/master/notebooks/00.00-Preface.ipynb) - Free online data science with Python handbook. Some ntoes are based on this book.\n",
    "- [Online Python Interpreter](https://repl.it/languages/python3)\n",
    "- You can find plenty of other resources online, which are only a Google search away!"
   ]
  }
 ],
 "metadata": {
  "anaconda-cloud": {},
  "kernelspec": {
   "display_name": "Python 3",
   "language": "python",
   "name": "python3"
  },
  "language_info": {
   "codemirror_mode": {
    "name": "ipython",
    "version": 3
   },
   "file_extension": ".py",
   "mimetype": "text/x-python",
   "name": "python",
   "nbconvert_exporter": "python",
   "pygments_lexer": "ipython3",
   "version": "3.8.10"
  }
 },
 "nbformat": 4,
 "nbformat_minor": 2
}
